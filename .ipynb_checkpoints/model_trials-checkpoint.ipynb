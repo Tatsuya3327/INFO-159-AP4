{
 "cells": [
  {
   "cell_type": "code",
   "execution_count": 164,
   "id": "3413c9ec-e27e-40c9-b56d-80fb79999ddf",
   "metadata": {},
   "outputs": [],
   "source": [
    "from scipy import sparse\n",
    "from sklearn import linear_model\n",
    "from collections import Counter\n",
    "import numpy as np\n",
    "import operator\n",
    "import nltk\n",
    "import math\n",
    "from scipy.stats import norm\n",
    "\n",
    "from nltk.corpus import stopwords\n",
    "from sklearn.metrics import confusion_matrix, ConfusionMatrixDisplay\n",
    "import torch"
   ]
  },
  {
   "cell_type": "code",
   "execution_count": 2,
   "id": "5ea76451-da77-4e25-bf53-dfed9d80148a",
   "metadata": {},
   "outputs": [
    {
     "name": "stdout",
     "output_type": "stream",
     "text": [
      "/Users/t.k/opt/anaconda3/lib/python3.8/runpy.py:127: RuntimeWarning: 'nltk.downloader' found in sys.modules after import of package 'nltk', but prior to execution of 'nltk.downloader'; this may result in unpredictable behaviour\n",
      "  warn(RuntimeWarning(msg))\n",
      "[nltk_data] Downloading package punkt to /Users/t.k/nltk_data...\n",
      "[nltk_data]   Unzipping tokenizers/punkt.zip.\n"
     ]
    }
   ],
   "source": [
    "!python -m nltk.downloader punkt"
   ]
  },
  {
   "cell_type": "code",
   "execution_count": 4,
   "id": "8d61030a-3e39-40c8-92c7-c1c97de5d84b",
   "metadata": {},
   "outputs": [],
   "source": [
    "def load_data(filename):\n",
    "    X = []\n",
    "    Y = []\n",
    "    with open(filename, encoding=\"utf-8\") as file:\n",
    "        for line in file:\n",
    "            cols = line.split(\"\\t\")\n",
    "            idd = cols[0]\n",
    "            label = cols[2].lstrip().rstrip()\n",
    "            text = cols[3]\n",
    "\n",
    "            X.append(text)\n",
    "            Y.append(label)\n",
    "\n",
    "    return X, Y"
   ]
  },
  {
   "cell_type": "code",
   "execution_count": 189,
   "id": "6dbdc9f2-9096-48d5-bf6c-f32c8fdb983b",
   "metadata": {},
   "outputs": [],
   "source": [
    "class Classifier:\n",
    "\n",
    "    def __init__(self, feature_method, trainX, trainY, devX, devY, testX, testY):\n",
    "        self.feature_vocab = {}\n",
    "        self.feature_method = feature_method\n",
    "        self.min_feature_count=2\n",
    "        self.log_reg = None\n",
    "\n",
    "        self.trainY=trainY\n",
    "        self.devY=devY\n",
    "        self.testY=testY\n",
    "        \n",
    "        self.trainX = self.process(trainX, training=True)\n",
    "        self.devX = self.process(devX, training=False)\n",
    "        self.testX = self.process(testX, training=False)\n",
    "\n",
    "    # Featurize entire dataset\n",
    "    def featurize(self, data):\n",
    "        featurized_data = []\n",
    "        for text in data:\n",
    "            feats = self.feature_method(text)\n",
    "            featurized_data.append(feats)\n",
    "        return featurized_data\n",
    "\n",
    "    # Read dataset and returned featurized representation as sparse matrix + label array\n",
    "    def process(self, X_data, training = False):\n",
    "        \n",
    "        data = self.featurize(X_data)\n",
    "\n",
    "        if training:\n",
    "            fid = 0\n",
    "            feature_doc_count = Counter()\n",
    "            for feats in data:\n",
    "                for feat in feats:\n",
    "                    feature_doc_count[feat]+= 1\n",
    "\n",
    "            for feat in feature_doc_count:\n",
    "                if feature_doc_count[feat] >= self.min_feature_count:\n",
    "                    self.feature_vocab[feat] = fid\n",
    "                    fid += 1\n",
    "\n",
    "        F = len(self.feature_vocab)\n",
    "        D = len(data)\n",
    "        X = sparse.dok_matrix((D, F))\n",
    "        for idx, feats in enumerate(data):\n",
    "            for feat in feats:\n",
    "                if feat in self.feature_vocab:\n",
    "                    X[idx, self.feature_vocab[feat]] = feats[feat]\n",
    "\n",
    "        return X\n",
    "\n",
    "\n",
    "    # Train model and evaluate on held-out data\n",
    "    def train(self):\n",
    "        (D,F) = self.trainX.shape\n",
    "        best_dev_accuracy=0\n",
    "        best_model=None\n",
    "        for C in [0.1, 1, 10, 100]:\n",
    "            self.log_reg = linear_model.LogisticRegression(C = C, class_weight='balanced', max_iter=1000)\n",
    "            self.log_reg.fit(self.trainX, self.trainY)\n",
    "            training_accuracy = self.log_reg.score(self.trainX, self.trainY)\n",
    "            development_accuracy = self.log_reg.score(self.devX, self.devY)\n",
    "            if development_accuracy > best_dev_accuracy:\n",
    "                best_dev_accuracy=development_accuracy\n",
    "                best_model=self.log_reg\n",
    "\n",
    "            print(\"C: %s, Train accuracy: %.3f, Dev accuracy: %.3f\" % (C, training_accuracy, development_accuracy))\n",
    "            \n",
    "        self.log_reg=best_model\n",
    "        self.plot_confusion_matrix()\n",
    "        \n",
    "\n",
    "    def test(self):\n",
    "        return self.log_reg.score(self.testX, self.testY)\n",
    "        \n",
    "\n",
    "    def printWeights(self, n=10):\n",
    "\n",
    "        reverse_vocab=[None]*len(self.log_reg.coef_[0])\n",
    "        for k in self.feature_vocab:\n",
    "            reverse_vocab[self.feature_vocab[k]]=k\n",
    "\n",
    "        # binary\n",
    "        if len(self.log_reg.classes_) == 2:\n",
    "              weights=self.log_reg.coef_[0]\n",
    "\n",
    "              cat=self.log_reg.classes_[1]\n",
    "              for feature, weight in list(reversed(sorted(zip(reverse_vocab, weights), key = operator.itemgetter(1))))[:n]:\n",
    "                  print(\"%s\\t%.3f\\t%s\" % (cat, weight, feature))\n",
    "              print()\n",
    "\n",
    "              cat=self.log_reg.classes_[0]\n",
    "              for feature, weight in list(sorted(zip(reverse_vocab, weights), key = operator.itemgetter(1)))[:n]:\n",
    "                  print(\"%s\\t%.3f\\t%s\" % (cat, weight, feature))\n",
    "              print()\n",
    "\n",
    "        # multiclass\n",
    "        else:\n",
    "          for i, cat in enumerate(self.log_reg.classes_):\n",
    "\n",
    "              weights=self.log_reg.coef_[i]\n",
    "\n",
    "              for feature, weight in list(reversed(sorted(zip(reverse_vocab, weights), key = operator.itemgetter(1))))[:n]:\n",
    "                  print(\"%s\\t%.3f\\t%s\" % (cat, weight, feature))\n",
    "              print()\n",
    "\n",
    "    # Plot confusion matrix on test data\n",
    "    def plot_confusion_matrix(self):\n",
    "        pred = self.log_reg.predict(self.testX)\n",
    "        cm = confusion_matrix(self.testY, pred, normalize=\"all\")\n",
    "        disp = ConfusionMatrixDisplay(confusion_matrix=cm, display_labels=self.log_reg.classes_)\n",
    "        disp.plot()\n",
    "            "
   ]
  },
  {
   "cell_type": "code",
   "execution_count": 104,
   "id": "a6515ee7-4685-4953-a459-7052c0bcc1ba",
   "metadata": {},
   "outputs": [],
   "source": [
    "def binary_bow_featurize(text):\n",
    "    feats = {}\n",
    "    words = nltk.word_tokenize(text)\n",
    "\n",
    "    for word in words:\n",
    "        word=word.lower()\n",
    "        feats[word]=1\n",
    "            \n",
    "    return feats"
   ]
  },
  {
   "cell_type": "code",
   "execution_count": 105,
   "id": "ad2d24a4-b91d-441b-9774-f6171f972279",
   "metadata": {},
   "outputs": [],
   "source": [
    "def confidence_intervals(accuracy, n, significance_level):\n",
    "    critical_value=(1-significance_level)/2\n",
    "    z_alpha=-1*norm.ppf(critical_value)\n",
    "    se=math.sqrt((accuracy*(1-accuracy))/n)\n",
    "    return accuracy-(se*z_alpha), accuracy+(se*z_alpha)"
   ]
  },
  {
   "cell_type": "code",
   "execution_count": 190,
   "id": "d044f374-21ff-435e-8d11-7b9bca396171",
   "metadata": {},
   "outputs": [],
   "source": [
    "def run(trainingFile, devFile, testFile, feature_method):\n",
    "    trainX, trainY=load_data(trainingFile)\n",
    "    devX, devY=load_data(devFile)\n",
    "    testX, testY=load_data(testFile)\n",
    "    \n",
    "    simple_classifier = Classifier(feature_method, trainX, trainY, devX, devY, testX, testY)\n",
    "    simple_classifier.train()\n",
    "    accuracy=simple_classifier.test()\n",
    "    \n",
    "    lower, upper=confidence_intervals(accuracy, len(testY), .95)\n",
    "    print(\"Test accuracy for best dev model: %.3f, 95%% CIs: [%.3f %.3f]\\n\" % (accuracy, lower, upper))\n",
    "\n",
    "    simple_classifier.printWeights()\n",
    "    \n",
    "    return simple_classifier"
   ]
  },
  {
   "cell_type": "code",
   "execution_count": 191,
   "id": "13d9d389-a478-4d7f-8ee6-bd6711e2d169",
   "metadata": {},
   "outputs": [
    {
     "name": "stdout",
     "output_type": "stream",
     "text": [
      "C: 0.1, Train accuracy: 0.960, Dev accuracy: 0.790\n",
      "C: 1, Train accuracy: 1.000, Dev accuracy: 0.720\n",
      "C: 10, Train accuracy: 1.000, Dev accuracy: 0.730\n",
      "C: 100, Train accuracy: 1.000, Dev accuracy: 0.720\n",
      "Test accuracy for best dev model: 0.750, 95% CIs: [0.665 0.835]\n",
      "\n",
      "pos\t0.454\t3\n",
      "pos\t0.313\t30\n",
      "pos\t0.301\t4\n",
      "pos\t0.270\tit\n",
      "pos\t0.266\tglass\n",
      "pos\t0.257\tcut\n",
      "pos\t0.251\tpreheat\n",
      "pos\t0.250\taround\n",
      "pos\t0.249\tif\n",
      "pos\t0.248\twith\n",
      "\n",
      "neg\t-0.285\tseason\n",
      "neg\t-0.262\twarm\n",
      "neg\t-0.261\tpowder\n",
      "neg\t-0.242\tvinegar\n",
      "neg\t-0.221\tsoda\n",
      "neg\t-0.216\tmore\n",
      "neg\t-0.206\tgarlic\n",
      "neg\t-0.201\thour\n",
      "neg\t-0.191\tparmesan\n",
      "neg\t-0.187\tbell\n",
      "\n"
     ]
    },
    {
     "data": {
      "image/png": "[encoded data removed]",
      "text/plain": [
       "<Figure size 640x480 with 2 Axes>"
      ]
     },
     "metadata": {},
     "output_type": "display_data"
    }
   ],
   "source": [
    "trainingFile = \"train.txt\"\n",
    "devFile = \"dev.txt\"\n",
    "testFile = \"test.txt\"\n",
    "    \n",
    "model = run(trainingFile, devFile, testFile, binary_bow_featurize)"
   ]
  },
  {
   "cell_type": "code",
   "execution_count": 194,
   "id": "1469f5e2-eb33-44df-9051-6d59c6318151",
   "metadata": {},
   "outputs": [
    {
     "name": "stdout",
     "output_type": "stream",
     "text": [
      "C: 0.1, Train accuracy: 0.933, Dev accuracy: 0.760\n",
      "C: 1, Train accuracy: 1.000, Dev accuracy: 0.780\n",
      "C: 10, Train accuracy: 1.000, Dev accuracy: 0.770\n",
      "C: 100, Train accuracy: 1.000, Dev accuracy: 0.770\n",
      "Test accuracy for best dev model: 0.790, 95% CIs: [0.710 0.870]\n",
      "\n",
      "pos\t0.603\taround\n",
      "pos\t0.591\ttablespoons\n",
      "pos\t0.587\tendive\n",
      "pos\t0.579\ttoast\n",
      "pos\t0.575\t3/4\n",
      "pos\t0.556\tmake\n",
      "pos\t0.550\tbroth\n",
      "pos\t0.541\tmustard\n",
      "pos\t0.523\tstill\n",
      "pos\t0.518\tglass\n",
      "\n",
      "neg\t-0.808\tseason\n",
      "neg\t-0.708\twarm\n",
      "neg\t-0.679\tsoda\n",
      "neg\t-0.671\tpowder\n",
      "neg\t-0.634\thour\n",
      "neg\t-0.596\tparmesan\n",
      "neg\t-0.557\tgarlic\n",
      "neg\t-0.553\t450°f\n",
      "neg\t-0.549\tbell\n",
      "neg\t-0.540\toften\n",
      "\n"
     ]
    },
    {
     "data": {
      "image/png": "[encoded data removed]",
      "text/plain": [
       "<Figure size 640x480 with 2 Axes>"
      ]
     },
     "metadata": {},
     "output_type": "display_data"
    }
   ],
   "source": [
    "model_preprocessed = run(trainingFile, devFile, testFile, featurize_preprocess)"
   ]
  },
  {
   "cell_type": "code",
   "execution_count": 193,
   "id": "79e83166-a17c-48b0-8114-60d0d4fd8d56",
   "metadata": {},
   "outputs": [],
   "source": [
    "# preprocess\n",
    "# 1. lower\n",
    "# 2. remove stop words\n",
    "# 3. convert number to same value\n",
    "# 4. Word2Vec\n",
    "\n",
    "\n",
    "def featurize_preprocess(text):\n",
    "    stop_words = set(stopwords.words('english'))\n",
    "    feats = {}\n",
    "    \n",
    "    # word_length\n",
    "    feats['num_tokens'] = len(text.split())\n",
    "    \n",
    "    # tokenize\n",
    "    words = nltk.word_tokenize(text)\n",
    "            \n",
    "    for word in words:\n",
    "        # remove stopwords\n",
    "        if word in stop_words:\n",
    "            continue\n",
    "        \n",
    "        # convert to lowercase\n",
    "        word = word.lower()\n",
    "\n",
    "        # convert numbers to 'num_symbol'\n",
    "        word = 'num_symbol' if word.isnumeric() else word\n",
    "            \n",
    "        feats[word] = 1\n",
    "    \n",
    "    return feats"
   ]
  },
  {
   "cell_type": "code",
   "execution_count": 170,
   "id": "5f484f25-15cd-4530-ad1d-76b57e5aa722",
   "metadata": {},
   "outputs": [],
   "source": [
    "def read_embeddings(filename, vocab_size=50000):\n",
    "    \"\"\"\n",
    "    Utility function, loads in the `vocab_size` most common embeddings from `filename`\n",
    "    \n",
    "    Arguments:\n",
    "    - filename:     path to file\n",
    "                    automatically infers correct embedding dimension from filename\n",
    "    - vocab_size:   maximum number of embeddings to load\n",
    "\n",
    "    Returns \n",
    "    - embeddings:   torch.FloatTensor matrix of size (vocab_size x word_embedding_dim)\n",
    "    - vocab:        dictionary mapping word (str) to index (int) in embedding matrix\n",
    "    \"\"\"\n",
    "\n",
    "    # get the embedding size from the first embedding\n",
    "    with open(filename, encoding=\"utf-8\") as file:\n",
    "        word_embedding_dim=len(file.readline().split(\" \")) - 1\n",
    "\n",
    "    vocab={}\n",
    "\n",
    "    embeddings=np.zeros((vocab_size, word_embedding_dim))\n",
    "    with open(filename, encoding=\"utf-8\") as file:\n",
    "        for idx, line in enumerate(file):\n",
    "            if idx + 2 >= vocab_size:\n",
    "                break\n",
    "            cols=line.rstrip().split(\" \")\n",
    "            val=np.array(cols[1:])\n",
    "            word=cols[0]\n",
    "            embeddings[idx + 2]=val\n",
    "            vocab[word]=idx + 2\n",
    "    \n",
    "    # a FloatTensor is a multidimensional matrix\n",
    "    # that contains 32-bit floats in every entry\n",
    "    # https://pytorch.org/docs/stable/tensors.html\n",
    "    return torch.FloatTensor(embeddings), vocab"
   ]
  },
  {
   "cell_type": "code",
   "execution_count": null,
   "id": "c2c6ccfa-058f-47a5-ad11-04b3e2125f2b",
   "metadata": {},
   "outputs": [],
   "source": [
    "labels={'pos': 1, 'neg': 0}\n",
    "embs, glove_vocab=read_embeddings(\"glove.6B.50d.50K.txt\")"
   ]
  },
  {
   "cell_type": "code",
   "execution_count": 187,
   "id": "7dc588b6-0d64-4ccf-ae88-7c67bc94fbed",
   "metadata": {},
   "outputs": [],
   "source": [
    "def read_avg_embeddings(text, vocab, embs):\n",
    "    \"\"\"\n",
    "    Utility function, loads in texts `filename` and looks up the static embeddings\n",
    "    \n",
    "    Arguments:\n",
    "    - filename:     path to file\n",
    "    - vocab:        vocab file of e.g. GloVe\n",
    "\n",
    "    Returns \n",
    "    - embeddings:   torch.FloatTensor matrix of size (vocab_size x word_embedding_dim)\n",
    "    - vocab:        dictionary mapping word (str) to index (int) in embedding matrix\n",
    "    \"\"\"\n",
    "    \n",
    "    avg_emb = np.zeros(50)\n",
    "    words = nltk.word_tokenize(text)\n",
    "    avg_counter = 0.\n",
    "    for word in words:\n",
    "        word = word.lower()\n",
    "        if word in vocab:\n",
    "            avg_emb += embs[vocab[word]].numpy()\n",
    "            avg_counter += 1.\n",
    "    avg_emb /= avg_counter\n",
    "    \n",
    "    feats = {f'emb_{i}' : emb for i, emb in enumerate(avg_emb)}\n",
    "    return feats"
   ]
  },
  {
   "cell_type": "code",
   "execution_count": 195,
   "id": "a652754b-7f3a-44f4-b137-1c655beaae56",
   "metadata": {},
   "outputs": [
    {
     "name": "stdout",
     "output_type": "stream",
     "text": [
      "C: 0.1, Train accuracy: 0.633, Dev accuracy: 0.620\n",
      "C: 1, Train accuracy: 0.703, Dev accuracy: 0.700\n",
      "C: 10, Train accuracy: 0.740, Dev accuracy: 0.770\n",
      "C: 100, Train accuracy: 0.763, Dev accuracy: 0.750\n",
      "Test accuracy for best dev model: 0.700, 95% CIs: [0.610 0.790]\n",
      "\n",
      "pos\t4.574\temb_42\n",
      "pos\t4.167\temb_2\n",
      "pos\t2.783\temb_24\n",
      "pos\t2.751\temb_6\n",
      "pos\t2.499\temb_28\n",
      "pos\t2.441\temb_19\n",
      "pos\t2.388\temb_18\n",
      "pos\t2.349\temb_3\n",
      "pos\t2.025\temb_48\n",
      "pos\t1.930\temb_33\n",
      "\n",
      "neg\t-3.795\temb_34\n",
      "neg\t-2.730\temb_22\n",
      "neg\t-2.652\temb_38\n",
      "neg\t-2.384\temb_41\n",
      "neg\t-2.374\temb_44\n",
      "neg\t-2.145\temb_49\n",
      "neg\t-2.045\temb_20\n",
      "neg\t-2.037\temb_12\n",
      "neg\t-1.860\temb_37\n",
      "neg\t-1.858\temb_43\n",
      "\n"
     ]
    },
    {
     "data": {
      "image/png": "[encoded data removed]",
      "text/plain": [
       "<Figure size 640x480 with 2 Axes>"
      ]
     },
     "metadata": {},
     "output_type": "display_data"
    }
   ],
   "source": [
    "model_word_embedding = run(trainingFile, devFile, testFile, lambda x: read_avg_embeddings(x, glove_vocab, embs))"
   ]
  },
  {
   "cell_type": "code",
   "execution_count": 179,
   "id": "b850a14c-c845-4578-a5c1-6a9edc2dc71b",
   "metadata": {},
   "outputs": [
    {
     "data": {
      "text/plain": [
       "array([-0.00701397,  0.54196333, -0.19225432, -0.52465666,  0.77827666,\n",
       "       -0.04985666, -0.31802333,  0.17465921, -0.52433   ,  0.47641918,\n",
       "       -0.33454332,  0.93488999, -0.61863667, -0.16418599,  1.10000666,\n",
       "        0.33991333,  0.29203001,  0.35769333,  0.07931166, -0.724163  ,\n",
       "       -0.42256665,  0.87212   ,  0.70861665,  0.45412335,  1.2277    ,\n",
       "       -2.06130004, -1.31806668,  0.23561666,  1.21050004, -1.26068   ,\n",
       "        3.33396665,  0.74604668, -0.60947001,  0.23688667, -0.31138666,\n",
       "       -0.179042  ,  0.17087666,  0.119286  ,  0.35114667, -0.56632333,\n",
       "        0.09226224, -0.03197267, -0.20611999,  0.41710333,  0.168862  ,\n",
       "        0.18619333,  0.08125467, -0.80106331, -0.20057967,  0.78087   ])"
      ]
     },
     "execution_count": 179,
     "metadata": {},
     "output_type": "execute_result"
    }
   ],
   "source": []
  },
  {
   "cell_type": "code",
   "execution_count": 174,
   "id": "6503dc02-c562-4adc-8468-4e2e8de87509",
   "metadata": {},
   "outputs": [
    {
     "data": {
      "text/plain": [
       "837"
      ]
     },
     "execution_count": 174,
     "metadata": {},
     "output_type": "execute_result"
    }
   ],
   "source": [
    "glove_vocab[\"love\"]"
   ]
  },
  {
   "cell_type": "code",
   "execution_count": 181,
   "id": "6f0044aa-bfe9-48b9-8d2f-8d56555d0af7",
   "metadata": {},
   "outputs": [
    {
     "name": "stdout",
     "output_type": "stream",
     "text": [
      "0 I\n",
      "1 have\n"
     ]
    }
   ],
   "source": [
    "for i, num in enumerate(['I', 'have']):\n",
    "    print(i, num)"
   ]
  },
  {
   "cell_type": "code",
   "execution_count": null,
   "id": "472c6aee-5aca-4321-b241-4b08ce8ac807",
   "metadata": {},
   "outputs": [],
   "source": []
  }
 ],
 "metadata": {
  "kernelspec": {
   "display_name": "Python 3 (ipykernel)",
   "language": "python",
   "name": "python3"
  },
  "language_info": {
   "codemirror_mode": {
    "name": "ipython",
    "version": 3
   },
   "file_extension": ".py",
   "mimetype": "text/x-python",
   "name": "python",
   "nbconvert_exporter": "python",
   "pygments_lexer": "ipython3",
   "version": "3.8.8"
  }
 },
 "nbformat": 4,
 "nbformat_minor": 5
}
