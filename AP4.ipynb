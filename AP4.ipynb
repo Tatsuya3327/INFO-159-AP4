{
 "cells": [
  {
   "cell_type": "code",
   "execution_count": 166,
   "id": "4eb62902-79dc-411e-a86c-f33ee50a07ff",
   "metadata": {},
   "outputs": [],
   "source": [
    "from scipy import sparse\n",
    "from sklearn import linear_model\n",
    "from collections import Counter\n",
    "import numpy as np\n",
    "import operator\n",
    "import nltk\n",
    "import math\n",
    "from scipy.stats import norm\n",
    "\n",
    "from nltk.corpus import stopwords\n",
    "from sklearn.metrics import confusion_matrix, ConfusionMatrixDisplay"
   ]
  },
  {
   "cell_type": "code",
   "execution_count": 167,
   "id": "6124bff8-7494-49a6-9f5b-1cf56634f406",
   "metadata": {},
   "outputs": [
    {
     "name": "stdout",
     "output_type": "stream",
     "text": [
      "/Users/t.k/opt/anaconda3/lib/python3.8/runpy.py:127: RuntimeWarning: 'nltk.downloader' found in sys.modules after import of package 'nltk', but prior to execution of 'nltk.downloader'; this may result in unpredictable behaviour\n",
      "  warn(RuntimeWarning(msg))\n",
      "[nltk_data] Downloading package punkt to /Users/t.k/nltk_data...\n",
      "[nltk_data]   Package punkt is already up-to-date!\n"
     ]
    }
   ],
   "source": [
    "!python -m nltk.downloader punkt"
   ]
  },
  {
   "cell_type": "code",
   "execution_count": 168,
   "id": "84592fe0-ca39-40b4-adbc-35f72ad07e34",
   "metadata": {},
   "outputs": [],
   "source": [
    "def load_data(filename):\n",
    "    X = []\n",
    "    Y = []\n",
    "    with open(filename, encoding=\"utf-8\") as file:\n",
    "        for line in file:\n",
    "            cols = line.split(\"\\t\")\n",
    "            idd = cols[0]\n",
    "            label = cols[2].lstrip().rstrip()\n",
    "            text = cols[3]\n",
    "\n",
    "            X.append(text)\n",
    "            Y.append(label)\n",
    "\n",
    "    return X, Y"
   ]
  },
  {
   "cell_type": "code",
   "execution_count": 200,
   "id": "2a732063-88ce-400a-a683-6e184d83abc4",
   "metadata": {},
   "outputs": [],
   "source": [
    "class Classifier:\n",
    "\n",
    "    def __init__(self, feature_method, min_feature_count, trainX, trainY, devX, devY, testX, testY):\n",
    "        self.feature_vocab = {}\n",
    "        self.feature_method = feature_method\n",
    "        self.min_feature_count = min_feature_count\n",
    "        self.log_reg = None\n",
    "\n",
    "        self.trainY = trainY\n",
    "        self.devY = devY\n",
    "        self.testY = testY\n",
    "        \n",
    "        self.raw_train = trainX\n",
    "        self.raw_dev = devX\n",
    "        self.raw_test = testX\n",
    "        \n",
    "        self.trainX = self.process(trainX, training=True)\n",
    "        self.devX = self.process(devX, training=False)\n",
    "        self.testX = self.process(testX, training=False)\n",
    "\n",
    "    # Featurize entire dataset\n",
    "    def featurize(self, data):\n",
    "        featurized_data = []\n",
    "        for text in data:\n",
    "            feats = self.feature_method(text)\n",
    "            featurized_data.append(feats)\n",
    "        return featurized_data\n",
    "\n",
    "    # Read dataset and returned featurized representation as sparse matrix + label array\n",
    "    def process(self, X_data, training = False):\n",
    "        \n",
    "        data = self.featurize(X_data)\n",
    "\n",
    "        if training:\n",
    "            fid = 0\n",
    "            feature_doc_count = Counter()\n",
    "            for feats in data:\n",
    "                for feat in feats:\n",
    "                    feature_doc_count[feat]+= 1\n",
    "\n",
    "            for feat in feature_doc_count:\n",
    "                if feature_doc_count[feat] >= self.min_feature_count:\n",
    "                    self.feature_vocab[feat] = fid\n",
    "                    fid += 1\n",
    "\n",
    "        F = len(self.feature_vocab)\n",
    "        D = len(data)\n",
    "        X = sparse.dok_matrix((D, F))\n",
    "        for idx, feats in enumerate(data):\n",
    "            for feat in feats:\n",
    "                if feat in self.feature_vocab:\n",
    "                    X[idx, self.feature_vocab[feat]] = feats[feat]\n",
    "\n",
    "        return X\n",
    "\n",
    "\n",
    "    # Train model and evaluate on held-out data\n",
    "    def train(self):\n",
    "        (D,F) = self.trainX.shape\n",
    "        best_dev_accuracy=0\n",
    "        best_model=None\n",
    "        for C in [0.1, 1, 10, 100]:\n",
    "            self.log_reg = linear_model.LogisticRegression(C = C, class_weight='balanced', max_iter=1000)\n",
    "            self.log_reg.fit(self.trainX, self.trainY)\n",
    "            training_accuracy = self.log_reg.score(self.trainX, self.trainY)\n",
    "            development_accuracy = self.log_reg.score(self.devX, self.devY)\n",
    "            if development_accuracy > best_dev_accuracy:\n",
    "                best_dev_accuracy=development_accuracy\n",
    "                best_model=self.log_reg\n",
    "\n",
    "            print(\"C: %s, Train accuracy: %.3f, Dev accuracy: %.3f\" % (C, training_accuracy, development_accuracy))\n",
    "            \n",
    "        self.log_reg=best_model\n",
    "        \n",
    "        # save prediction\n",
    "        self.train_pred = self.log_reg.predict(self.trainX)\n",
    "        self.dev_pred = self.log_reg.predict(self.devX)\n",
    "        \n",
    "\n",
    "    def test(self):\n",
    "        \n",
    "        # save prediction\n",
    "        self.test_pred = self.log_reg.predict(self.testX)\n",
    "        self.test_prob = self.log_reg.predict_proba(self.testX)\n",
    "        \n",
    "        # classify test examples into TP, TN, FP, FN along with probability\n",
    "        TP, TN, FP, FN = [], [], [], []\n",
    "        for i in range(len(self.test_pred)):\n",
    "            # True Positive\n",
    "            if self.testY[i] == 'pos' and self.test_prob[i][0] >= 0.5:\n",
    "                TP.append((self.test_prob[i][0], self.raw_test[i]))\n",
    "            # True Negative\n",
    "            elif self.testY[i] == 'neg' and self.test_prob[i][0] < 0.5:\n",
    "                TN.append((self.test_prob[i][0], self.raw_test[i]))\n",
    "            # False Positive\n",
    "            elif self.testY[i] == 'neg' and self.test_prob[i][0] >= 0.5:\n",
    "                FP.append((self.test_prob[i][0], self.raw_test[i]))\n",
    "            # False Negative\n",
    "            else:\n",
    "                FN.append((self.test_prob[i][0], self.raw_test[i]))\n",
    "        \n",
    "        # sort each by probability\n",
    "        TP.sort(reverse=True)\n",
    "        TN.sort()\n",
    "        FP.sort(reverse=True)\n",
    "        FN.sort()\n",
    "        \n",
    "        self.TP, self.TN, self.FP, self.FN = np.array(TP), np.array(TN), np.array(FP), np.array(FN) \n",
    "        \n",
    "        return self.log_reg.score(self.testX, self.testY)\n",
    "        \n",
    "\n",
    "    def printWeights(self, n=10):\n",
    "\n",
    "        reverse_vocab=[None]*len(self.log_reg.coef_[0])\n",
    "        for k in self.feature_vocab:\n",
    "            reverse_vocab[self.feature_vocab[k]]=k\n",
    "\n",
    "        # binary\n",
    "        if len(self.log_reg.classes_) == 2:\n",
    "              weights=self.log_reg.coef_[0]\n",
    "\n",
    "              cat=self.log_reg.classes_[1]\n",
    "              for feature, weight in list(reversed(sorted(zip(reverse_vocab, weights), key = operator.itemgetter(1))))[:n]:\n",
    "                  print(\"%s\\t%.3f\\t%s\" % (cat, weight, feature))\n",
    "              print()\n",
    "\n",
    "              cat=self.log_reg.classes_[0]\n",
    "              for feature, weight in list(sorted(zip(reverse_vocab, weights), key = operator.itemgetter(1)))[:n]:\n",
    "                  print(\"%s\\t%.3f\\t%s\" % (cat, weight, feature))\n",
    "              print()\n",
    "\n",
    "        # multiclass\n",
    "        else:\n",
    "          for i, cat in enumerate(self.log_reg.classes_):\n",
    "\n",
    "              weights=self.log_reg.coef_[i]\n",
    "\n",
    "              for feature, weight in list(reversed(sorted(zip(reverse_vocab, weights), key = operator.itemgetter(1))))[:n]:\n",
    "                  print(\"%s\\t%.3f\\t%s\" % (cat, weight, feature))\n",
    "              print()\n",
    "            \n",
    "\n",
    "    # Plot confusion matrix on test data\n",
    "    def plot_confusion_matrix(self):\n",
    "        cm = confusion_matrix(self.testY, self.test_pred, normalize=\"all\")\n",
    "        disp = ConfusionMatrixDisplay(confusion_matrix=cm, display_labels=self.log_reg.classes_)\n",
    "        disp.plot()\n",
    "        \n",
    "        \n",
    "    # Print wrong examples with the most gap between true label and prediction\n",
    "    def print_wrong_examples(self, n=3):\n",
    "        \n",
    "        # FP\n",
    "        print(\"False Positives (Predicted POS & True NEG)\\n\")\n",
    "        for i in range(n):\n",
    "            print(f\"Probablity: {self.FP[i][0]}\")\n",
    "            print(self.FP[i][1], end=\"\\n\")\n",
    "            \n",
    "        # FN\n",
    "        print(\"\\nFalse Negatives (Predicted NEG & True POS)\\n\")\n",
    "        for i in range(n):\n",
    "            print(f\"Probablity: {self.FN[i][0]}\")\n",
    "            print(self.FN[i][1])\n",
    "        \n",
    "        \n",
    "    #def get_params(self, word):\n",
    "        #return self.log"
   ]
  },
  {
   "cell_type": "code",
   "execution_count": 201,
   "id": "b6cc973f-f55e-4d9b-877c-e0e3dddd0533",
   "metadata": {},
   "outputs": [],
   "source": [
    "def confidence_intervals(accuracy, n, significance_level):\n",
    "    critical_value=(1-significance_level)/2\n",
    "    z_alpha=-1*norm.ppf(critical_value)\n",
    "    se=math.sqrt((accuracy*(1-accuracy))/n)\n",
    "    return accuracy-(se*z_alpha), accuracy+(se*z_alpha)"
   ]
  },
  {
   "cell_type": "code",
   "execution_count": 202,
   "id": "d6b7762c-b804-4101-a1c6-06292a2c8e53",
   "metadata": {},
   "outputs": [],
   "source": [
    "def run(trainingFile, devFile, testFile, feature_method, min_feature_count):\n",
    "    trainX, trainY=load_data(trainingFile)\n",
    "    devX, devY=load_data(devFile)\n",
    "    testX, testY=load_data(testFile)\n",
    "    \n",
    "    simple_classifier = Classifier(feature_method, min_feature_count, trainX, trainY, devX, devY, testX, testY)\n",
    "    simple_classifier.train()\n",
    "    accuracy=simple_classifier.test()\n",
    "    \n",
    "    lower, upper=confidence_intervals(accuracy, len(testY), .95)\n",
    "    print(\"Test accuracy for best dev model: %.3f, 95%% CIs: [%.3f %.3f]\\n\" % (accuracy, lower, upper))\n",
    "\n",
    "    simple_classifier.printWeights(n=20)\n",
    "    \n",
    "    return simple_classifier"
   ]
  },
  {
   "cell_type": "code",
   "execution_count": 218,
   "id": "c1f866e2-401b-495c-9e33-ec52e6ce36b5",
   "metadata": {},
   "outputs": [],
   "source": [
    "# preprocessing \n",
    "# 1. lower\n",
    "# 2. remove stop words\n",
    "# 3. convert number to same value\n",
    "\n",
    "def custom_featurize(text):\n",
    "    remove_words = [\"around\", \"make\", \"endive\", \"still\", \":\"] # not stop words but almost meaningless\n",
    "    stop_words = set(stopwords.words('english'))\n",
    "    feats = {}\n",
    "    \n",
    "    # word_length\n",
    "    feats['num_tokens'] = len(text.split())\n",
    "    \n",
    "    # tokenize\n",
    "    words = nltk.word_tokenize(text)\n",
    "            \n",
    "    for word in words:\n",
    "        # remove stopwords and custom words and ingredients name\n",
    "        if word in stop_words or word in remove_words:\n",
    "            continue\n",
    "        \n",
    "        # convert to lowercase\n",
    "        word = word.lower()\n",
    "        \n",
    "        # seperate temperature number and degree\n",
    "        if \"°\" in word:\n",
    "            word = word[:-2]\n",
    "            feats[\"°F\"] = 1\n",
    "\n",
    "        # convert numbers to 'num_symbol'\n",
    "        word = 'num_symbol' if any([char.isdigit() for char in word]) else word\n",
    "            \n",
    "        feats[word] = 1\n",
    "    \n",
    "    return feats"
   ]
  },
  {
   "cell_type": "code",
   "execution_count": 222,
   "id": "655ca929-4c40-4171-82eb-5eb0da114cf0",
   "metadata": {},
   "outputs": [
    {
     "name": "stdout",
     "output_type": "stream",
     "text": [
      "C: 0.1, Train accuracy: 0.930, Dev accuracy: 0.770\n",
      "C: 1, Train accuracy: 1.000, Dev accuracy: 0.810\n",
      "C: 10, Train accuracy: 1.000, Dev accuracy: 0.790\n",
      "C: 100, Train accuracy: 1.000, Dev accuracy: 0.780\n",
      "Test accuracy for best dev model: 0.770, 95% CIs: [0.688 0.852]\n",
      "\n",
      "pos\t0.678\ttablespoons\n",
      "pos\t0.668\ttoast\n",
      "pos\t0.609\tmustard\n",
      "pos\t0.583\tbroth\n",
      "pos\t0.576\tprepared\n",
      "pos\t0.557\tmedium-high\n",
      "pos\t0.554\tfoil\n",
      "pos\t0.548\tice\n",
      "pos\t0.548\tcut\n",
      "pos\t0.540\tcelery\n",
      "pos\t0.538\tglass\n",
      "pos\t0.525\tput\n",
      "pos\t0.514\tchop\n",
      "pos\t0.513\tdish\n",
      "pos\t0.492\tpreheat\n",
      "pos\t0.491\tplace\n",
      "pos\t0.487\tdivide\n",
      "pos\t0.479\ttopped\n",
      "pos\t0.468\tcover\n",
      "pos\t0.464\tleaving\n",
      "\n",
      "neg\t-0.875\tseason\n",
      "neg\t-0.765\twarm\n",
      "neg\t-0.695\tpowder\n",
      "neg\t-0.695\tsoda\n",
      "neg\t-0.679\thour\n",
      "neg\t-0.621\tbell\n",
      "neg\t-0.610\tgarlic\n",
      "neg\t-0.598\toften\n",
      "neg\t-0.590\tparmesan\n",
      "neg\t-0.578\tpaprika\n",
      "neg\t-0.572\tmedium-low\n",
      "neg\t-0.545\trecipe\n",
      "neg\t-0.545\tvinegar\n",
      "neg\t-0.525\tfrozen\n",
      "neg\t-0.519\tliquid\n",
      "neg\t-0.509\tclub\n",
      "neg\t-0.506\tserving\n",
      "neg\t-0.500\tmixture\n",
      "neg\t-0.494\tmilk\n",
      "neg\t-0.489\tbaking\n",
      "\n"
     ]
    }
   ],
   "source": [
    "trainingFile = \"train.txt\"\n",
    "devFile = \"dev.txt\"\n",
    "testFile = \"test.txt\"\n",
    "    \n",
    "model = run(trainingFile, devFile, testFile, custom_featurize, min_feature_count=4)"
   ]
  },
  {
   "cell_type": "code",
   "execution_count": 223,
   "id": "06fc31e8-302d-4347-9f22-6cafd6b82a13",
   "metadata": {},
   "outputs": [
    {
     "data": {
      "image/png": "[encoded data removed]",
      "text/plain": [
       "<Figure size 640x480 with 2 Axes>"
      ]
     },
     "metadata": {},
     "output_type": "display_data"
    }
   ],
   "source": [
    "model.plot_confusion_matrix()"
   ]
  },
  {
   "cell_type": "code",
   "execution_count": 225,
   "id": "8a89d4ef-1e38-4a5a-b5e9-ecbae7ef94ff",
   "metadata": {},
   "outputs": [
    {
     "name": "stdout",
     "output_type": "stream",
     "text": [
      "False Positives (Predicted POS & True NEG)\n",
      "\n",
      "Probablity: 0.9878246863595536\n",
      "Mix giardiniera into mayonnaise in a small bowl. Thickly spread some giardiniera mixture over the bottom half of each roll. Top each with tomato slices; season with salt. Layer on a thick tuft of shredded lettuce; season lettuce with salt, pepper, and a splash of reserved giardiniera brine (about 1 Tbsp. per sandwich). Drizzle with oil.\n",
      "\n",
      "Probablity: 0.8981984710008067\n",
      "Combine lemon zest, lemon juice, arugula, beans, capers, red pepper flakes, 1/4 cup oil, and 1/2 tsp. salt in a large bowl. Cook campanelle in a large pot of boiling salted water, stirring occasionally, until al dente. Drain pasta, reserving 1 cup pasta cooking liquid, and add to bean mixture. Stir vigorously and add pasta cooking liquid as needed to fully coat. Season with salt. Transfer pasta to a serving bowl or platter. Using your hands, tear burrata over pasta and drizzle with more oil. Serve immediately.\n",
      "\n",
      "Probablity: 0.8912568019747691\n",
      "Bring broth and water to a simmer in a small saucepan. Cook bacon in a small heavy saucepan over medium-low heat, stirring, until crisp. Transfer with a slotted spoon to a paper towel to drain. Add garlic to bacon fat in pan and cook, stirring occasionally, until pale golden, about 1 minute. Add rice, stirring to coat. Add 1/4 cup hot broth mixture and simmer briskly, stirring constantly, until broth is absorbed. Continue simmering and adding hot broth mixture, about 1/4 cup at a time, stirring frequently and letting each addition be absorbed before adding the next, until rice is just tender and creamy-looking but still al dente, 18 to 22 minutes. (Reserve leftover broth mixture.) Add peas and cook, stirring occasionally, 2 minutes. Stir in cheese, butter, zest, and juice. Thin risotto with some of reserved broth mixture if desired and season with salt and pepper. Top with bacon.\n",
      "\n",
      "\n",
      "False Negatives (Predicted NEG & True POS)\n",
      "\n",
      "Probablity: 4.178953713185329e-06\n",
      "\"Put oven rack in middle position and preheat oven to 350°F. Toast hazelnuts in a shallow baking pan in oven until skins split and nuts are golden, 10 to 15 minutes. Remove from oven (leave oven on), then wrap hazelnuts in a kitchen towel and let steam 5 to 10 minutes. Rub hazelnuts in towel to remove loose skins (some skins may not come off), then transfer hazelnuts to a small bowl, discarding skins. While hazelnuts steam, toast almonds in baking pan until golden, 5 to 8 minutes, then add to bowl with hazelnuts. Lightly grease pan and set aside. Cook sugar in a dry small heavy skillet over moderate heat, swirling skillet, until sugar begins to melt, about 2 minutes. Continue to cook, swirling skillet, until sugar is melted into a deep golden caramel, 2 to 3 minutes more. Remove from heat and, working quickly, stir in nuts to coat, then transfer mixture to greased baking pan, spreading slightly. Let stand at room temperature until hardened and cool, about 30 minutes. Transfer praline to a heavy-duty sealable plastic bag and seal bag, pressing out excess air. Coarsely crush praline in bag using a rolling pin or bottom of a heavy skillet, then transfer three fourths to a food processor and purée until it becomes a smooth, creamy \"\"butter,\"\" 3 to 4 minutes. Reserve remaining crushed praline for garnish. Bring milk to a simmer in a 2 1/2- to 3-quart heavy saucepan over moderate heat. While milk heats, whisk together yolks, sugar, cornstarch, and salt in a heatproof bowl. Add hot milk to yolk mixture in a stream, whisking, then transfer mixture to saucepan and bring to a simmer over moderate heat, whisking (mixture will become thick and lumpy). Simmer, whisking constantly, 3 minutes (mixture will become smooth). Remove from heat and stir in butter and vanilla. Transfer to a clean bowl and chill pastry cream, its surface covered with wax paper, until cold, at least 1 hour. Beat heavy cream in a bowl with an electric mixer until it just holds stiff peaks. Beat pastry cream in a large bowl with mixer until smooth, then add praline \"\"butter\"\" and beat until incorporated. Fold in whipped cream, one third at a time, gently but thoroughly, then cover surface of hazelnut cream with wax paper and chill until ready to use. Put oven rack in middle position and preheat oven to 425°F. Trace a 9-inch circle with a pencil on a 12-inch square of parchment or wax paper, then trace a 5-inch circle inside it. Turn paper over (circles will still be visible) and put on a large baking sheet. Bring water to a boil with butter, granulated sugar, and salt in a 3-quart heavy saucepan over high heat, then reduce heat to moderate. Add flour all at once and cook, stirring vigorously with a wooden spoon, until mixture pulls away from side of pan, about 1 minute. Continue to cook and stir vigorously (to dry out mixture) 3 minutes more. Remove pan from heat and cool mixture, stirring occasionally, until warm to the touch, 5 to 10 minutes. Add whole eggs 1 at a time, stirring vigorously after each addition until dough is smooth. Transfer dough to pastry bag fitted with plain tip and pipe 3 concentric rings to fill space between traced circles on parchment, then pipe 2 more on top to cover seams between bottom rings. Lightly brush pastry with some egg wash, then scatter almonds over pastry and dust with 1 tablespoon confectioners sugar. Bake choux pastry until golden and well puffed, 20 to 25 minutes, then reduce oven temperature to 375°F and continue to bake until deep golden and firm to the touch, about 25 minutes more. Immediately prick top of pastry in 8 to 10 places with tip of a small sharp knife (to release steam) and continue to bake until golden brown, about 10 minutes more. Transfer pastry (on parchment) to a rack and cool completely, about 30 minutes. Halve pastry horizontally with a serrated knife and carefully invert top onto work surface. Remove and discard any wet dough from interior of top and bottom. Transfer hazelnut cream to cleaned and dried pastry bag fitted with star tip and pipe cream decoratively into bottom half of pastry, then carefully reinvert top half over it. Sprinkle top with reserved praline and dust with additional confectioners sugar.\"\n",
      "\n",
      "Probablity: 4.626556085352007e-06\n",
      "Lay 4 chiles on their sides on racks of gas burners and turn flames on high. Roast chiles, turning with tongs, until skins are blackened and chiles are tender, 4 to 6 minutes. (Or broil all 12 chiles on rack of a broiler pan about 2 inches from heat, turning, until skins are blackened, 8 to 10 minutes.) Transfer immediately to a large bowl and cover with plastic wrap. Roast remaining 8 chiles in same manner, then let stand 20 minutes. When cool enough to handle, peel chiles, then open flat and discard seeds and stems, wiping with paper towels or dunking in a bowl of water briefly, if necessary, to remove seeds. If chiles taste very spicy, cut out ribs with scissors to make them milder. Purée tomatoes with juice, garlic, cilantro, sugar, and salt in a blender. Heat oil in a 10-inch nonstick skillet over moderate heat until hot but not smoking, then add sauce (be careful of splattering) and simmer, stirring, until thickened and reduced to about 1 cup, about 6 minutes. Gently simmer cream, with epazote if using, in a small heavy saucepan, covered, 10 minutes. If using epazote, pour cream through a fine-mesh sieve into a bowl, pressing on and discarding epazote. Return cream to pan. Whisk in goat cheese and salt and heat over low heat, whisking until smooth. Blanch spinach in batches in a large pot of boiling salted water 1 minute, transferring with a slotted spoon to a large bowl of cold water to cool. Drain in a colander, pressing on spinach with back of a spoon to remove excess water, then coarsely chop. Heat oil in cleaned nonstick skillet over moderately high heat until hot but not smoking, then sauté spinach and raisins, stirring, 2 minutes. Stir in salt and transfer filling to a plate. Preheat oven to 350°F. Heat oil in cleaned nonstick skillet over moderately high heat until hot but not smoking, then fry tortillas 2 halves at a time, turning over once, until just crisp, about 1 minute total. Transfer tortillas to paper towels to drain. Spread 1/4 cup tomato sauce over bottom of casserole dish. Arrange half of tortillas on top, then spread another 1/4 cup tomato sauce on top and sprinkle evenly with black beans. Arrange 4 poblanos flat over black beans to cover, then spread half of spinach filling evenly over chiles and drizzle with 1/4 cup goat cheese sauce. Make another layer with 4 chiles, remaining spinach filling, and another 1/4 cup of goat cheese sauce, then cover with remaining 4 chiles. Cover chiles with remaining tomato sauce, spreading evenly, then top with remaining tortillas. Cover tortillas with remaining goat cheese sauce, spreading evenly. Bake lasagne, covered with foil, in middle of oven until bubbling and heated through, 25 to 30 minutes. Preheat broiler. Remove foil and broil about 3 inches from heat until top is bubbling and beginning to brown, about 2 minutes. Available at Latino markets and Kitchen/Market (888-468-4433)\n",
      "\n",
      "Probablity: 2.439200499815275e-05\n",
      "Preheat the oven to 350°F. Grease the bottom and sides of a 10-inch cake pan well with some of the butter. Cut out a piece of parchment paper so it fits closely into the bottom of the cake pan. Line the bottom of the pan with the parchment, and then grease the parchment with more butter. Shake 1 tablespoon of the flour into the cake pan, and shake it around so it sticks to the butter. Tap out any excess flour that doesn't stick to the parchment or to the sides of the pan. Pour the root beer and molasses into a deep medium-sized pot, and bring the mixture to a boil over high heat. (You need those high sides because the baking soda will froth up very high, and you don't want it to spill over! So make sure there's some meaningful space between the liquid and the top of the pot.) Pull the pot off the heat and whisk in all the baking soda, so it froths up. Then put the pot right in the fridge to cool down a little. While the root beer mix is cooling down, whisk the brown sugar, vegetable oil, granulated sugar, ginger, and vanilla extract together in a mixing bowl. The mixture will be a little chunky at this point. Crack the egg into the bowl and whisk well. The egg is what makes everything come together smoothly: you should have a thick paste. Set this aside. In another mixing bowl, combine rest of the flour with the baking powder, star anise, and cardamom. Grate in the nutmeg and lemon zest, and add the salt and pepper. Whisk everything together so it's well combined. Take the root beer mixture out of the fridge. Pour a third of the flour mixture into a large mixing bowl; pour in one-third of the root beer mixture, then one-third of the sugar paste. Whisk everything together slowly (so it doesn't splash everywhere), and then add another one-third of the flour, another one-third of the root beer, and so forth, until everything is combined in the bowl. (The mix doesn't need to be completely and smoothly combined until the last of the wet and dry mixtures are in the bowl.) You should have a very wet, almost liquid batter. Pour the batter into the cake pan, put the pan on a cookie sheet (to catch drips and splashes), and put it on the middle oven rack. Bake the cake for 45 minutes without opening the oven at all (this cake will sink if you shake it up while it's baking). Check it: the cake should be high and dark brown, with a little bit of spring-back when you touch it (but not too much—it's a very moist cake). If it's not quite ready, rotate the pan and put it back in the oven for another 5 minutes before checking it again. The whole baking process shouldn't take longer than 55 minutes, even in a slow oven. Whisk the cream and sassafras together in a small pot, and bring it up to a boil over medium-high heat. As soon as it boils, pull the mixture off the heat, pour it into a glass or ceramic container (something that won't crack from the heat), and put it in the fridge. Let the mixture cool for about 30 minutes while the sassafras steeps into the cream, so you have a nice root beer flavor. In a mixing bowl, combine the powdered sugar, star anise, cardamon, and salt. Grate in the nutmeg and lemon zest, and whisk everything together. Strain the cooled cream through a fine-mesh strainer into a small mixing bowl (so the sassafras pieces don't end up in the glaze). Gently whisk 1/2 cup of the cream into the powdered sugar mixture, holding back the last 2 tablespoons to see if you need it. If the mixture is dry and not coming together as a glaze, add more cream. Whisk the mixture well, until you have a shiny, thick liquid. When the cake is ready, pull it out of the oven and let it rest for about 5 minutes. Flip the cake out of the pan onto a serving plate. Spread the glaze thickly on top of the warm cake with a spoon. The glaze will melt and drip down the sides as you slather it on. You can serve the cake as soon as it's cooled to room temperature—but like all spice cakes, it's even better the day after you make it. Store it covered at room temperature.\n",
      "\n"
     ]
    }
   ],
   "source": [
    "model.print_wrong_examples()"
   ]
  },
  {
   "cell_type": "code",
   "execution_count": 130,
   "id": "24befb1b-ebdd-41a1-833f-95b98d64cf14",
   "metadata": {},
   "outputs": [
    {
     "data": {
      "image/png": "[encoded data removed]",
      "text/plain": [
       "<Figure size 640x480 with 2 Axes>"
      ]
     },
     "metadata": {},
     "output_type": "display_data"
    }
   ],
   "source": []
  },
  {
   "cell_type": "code",
   "execution_count": 98,
   "id": "cc132dca-37f0-46e5-bffa-1683a95509a4",
   "metadata": {},
   "outputs": [
    {
     "name": "stdout",
     "output_type": "stream",
     "text": [
      "C: 0.1, Train accuracy: 0.943, Dev accuracy: 0.770\n",
      "C: 1, Train accuracy: 1.000, Dev accuracy: 0.800\n",
      "C: 10, Train accuracy: 1.000, Dev accuracy: 0.760\n",
      "C: 100, Train accuracy: 1.000, Dev accuracy: 0.750\n",
      "Test accuracy for best dev model: 0.780, 95% CIs: [0.699 0.861]\n",
      "\n",
      "pos\t0.588\ttablespoons\n",
      "pos\t0.563\tendive\n",
      "pos\t0.546\t3/4\n",
      "pos\t0.545\ttoast\n",
      "pos\t0.531\tbroth\n",
      "pos\t0.517\tglass\n",
      "pos\t0.516\tstill\n",
      "pos\t0.500\tprepared\n",
      "pos\t0.499\tmustard\n",
      "pos\t0.487\tplace\n",
      "\n",
      "neg\t-0.788\tseason\n",
      "neg\t-0.666\twarm\n",
      "neg\t-0.656\tsoda\n",
      "neg\t-0.655\tpowder\n",
      "neg\t-0.589\thour\n",
      "neg\t-0.570\tparmesan\n",
      "neg\t-0.557\tgarlic\n",
      "neg\t-0.533\tbell\n",
      "neg\t-0.527\tpaprika\n",
      "neg\t-0.513\t450°f\n",
      "\n"
     ]
    }
   ],
   "source": [
    "custom_model = run(trainingFile, devFile, testFile, custom_featurize)"
   ]
  },
  {
   "cell_type": "code",
   "execution_count": 99,
   "id": "f8e905fb-76a1-4fb3-b424-96536b9d6121",
   "metadata": {},
   "outputs": [
    {
     "name": "stdout",
     "output_type": "stream",
     "text": [
      "False Positives (Predicted POS & True NEG)\n",
      "\n",
      "Probablity: 0.979874125892744\n",
      "Mix giardiniera into mayonnaise in a small bowl. Thickly spread some giardiniera mixture over the bottom half of each roll. Top each with tomato slices; season with salt. Layer on a thick tuft of shredded lettuce; season lettuce with salt, pepper, and a splash of reserved giardiniera brine (about 1 Tbsp. per sandwich). Drizzle with oil.\n",
      "\n",
      "Probablity: 0.9093998372091239\n",
      "Combine lemon zest, lemon juice, arugula, beans, capers, red pepper flakes, 1/4 cup oil, and 1/2 tsp. salt in a large bowl. Cook campanelle in a large pot of boiling salted water, stirring occasionally, until al dente. Drain pasta, reserving 1 cup pasta cooking liquid, and add to bean mixture. Stir vigorously and add pasta cooking liquid as needed to fully coat. Season with salt. Transfer pasta to a serving bowl or platter. Using your hands, tear burrata over pasta and drizzle with more oil. Serve immediately.\n",
      "\n",
      "Probablity: 0.8341144291310166\n",
      "To make the dressing, put the ginger and citrus juices into a bowl, add the salt and stir until dissolved. Add the ground coriander and pepper, then while whisking, slowly pour in the olive oil until combined. Mix all the salad ingredients together in a large bowl, pour over the dressing and serve.\n",
      "\n",
      "\n",
      "False Negatives (Predicted NEG & True POS)\n",
      "\n",
      "Probablity: 2.1575849720179008e-06\n",
      "\"Put oven rack in middle position and preheat oven to 350°F. Toast hazelnuts in a shallow baking pan in oven until skins split and nuts are golden, 10 to 15 minutes. Remove from oven (leave oven on), then wrap hazelnuts in a kitchen towel and let steam 5 to 10 minutes. Rub hazelnuts in towel to remove loose skins (some skins may not come off), then transfer hazelnuts to a small bowl, discarding skins. While hazelnuts steam, toast almonds in baking pan until golden, 5 to 8 minutes, then add to bowl with hazelnuts. Lightly grease pan and set aside. Cook sugar in a dry small heavy skillet over moderate heat, swirling skillet, until sugar begins to melt, about 2 minutes. Continue to cook, swirling skillet, until sugar is melted into a deep golden caramel, 2 to 3 minutes more. Remove from heat and, working quickly, stir in nuts to coat, then transfer mixture to greased baking pan, spreading slightly. Let stand at room temperature until hardened and cool, about 30 minutes. Transfer praline to a heavy-duty sealable plastic bag and seal bag, pressing out excess air. Coarsely crush praline in bag using a rolling pin or bottom of a heavy skillet, then transfer three fourths to a food processor and purée until it becomes a smooth, creamy \"\"butter,\"\" 3 to 4 minutes. Reserve remaining crushed praline for garnish. Bring milk to a simmer in a 2 1/2- to 3-quart heavy saucepan over moderate heat. While milk heats, whisk together yolks, sugar, cornstarch, and salt in a heatproof bowl. Add hot milk to yolk mixture in a stream, whisking, then transfer mixture to saucepan and bring to a simmer over moderate heat, whisking (mixture will become thick and lumpy). Simmer, whisking constantly, 3 minutes (mixture will become smooth). Remove from heat and stir in butter and vanilla. Transfer to a clean bowl and chill pastry cream, its surface covered with wax paper, until cold, at least 1 hour. Beat heavy cream in a bowl with an electric mixer until it just holds stiff peaks. Beat pastry cream in a large bowl with mixer until smooth, then add praline \"\"butter\"\" and beat until incorporated. Fold in whipped cream, one third at a time, gently but thoroughly, then cover surface of hazelnut cream with wax paper and chill until ready to use. Put oven rack in middle position and preheat oven to 425°F. Trace a 9-inch circle with a pencil on a 12-inch square of parchment or wax paper, then trace a 5-inch circle inside it. Turn paper over (circles will still be visible) and put on a large baking sheet. Bring water to a boil with butter, granulated sugar, and salt in a 3-quart heavy saucepan over high heat, then reduce heat to moderate. Add flour all at once and cook, stirring vigorously with a wooden spoon, until mixture pulls away from side of pan, about 1 minute. Continue to cook and stir vigorously (to dry out mixture) 3 minutes more. Remove pan from heat and cool mixture, stirring occasionally, until warm to the touch, 5 to 10 minutes. Add whole eggs 1 at a time, stirring vigorously after each addition until dough is smooth. Transfer dough to pastry bag fitted with plain tip and pipe 3 concentric rings to fill space between traced circles on parchment, then pipe 2 more on top to cover seams between bottom rings. Lightly brush pastry with some egg wash, then scatter almonds over pastry and dust with 1 tablespoon confectioners sugar. Bake choux pastry until golden and well puffed, 20 to 25 minutes, then reduce oven temperature to 375°F and continue to bake until deep golden and firm to the touch, about 25 minutes more. Immediately prick top of pastry in 8 to 10 places with tip of a small sharp knife (to release steam) and continue to bake until golden brown, about 10 minutes more. Transfer pastry (on parchment) to a rack and cool completely, about 30 minutes. Halve pastry horizontally with a serrated knife and carefully invert top onto work surface. Remove and discard any wet dough from interior of top and bottom. Transfer hazelnut cream to cleaned and dried pastry bag fitted with star tip and pipe cream decoratively into bottom half of pastry, then carefully reinvert top half over it. Sprinkle top with reserved praline and dust with additional confectioners sugar.\"\n",
      "\n",
      "Probablity: 6.137328917410478e-06\n",
      "Lay 4 chiles on their sides on racks of gas burners and turn flames on high. Roast chiles, turning with tongs, until skins are blackened and chiles are tender, 4 to 6 minutes. (Or broil all 12 chiles on rack of a broiler pan about 2 inches from heat, turning, until skins are blackened, 8 to 10 minutes.) Transfer immediately to a large bowl and cover with plastic wrap. Roast remaining 8 chiles in same manner, then let stand 20 minutes. When cool enough to handle, peel chiles, then open flat and discard seeds and stems, wiping with paper towels or dunking in a bowl of water briefly, if necessary, to remove seeds. If chiles taste very spicy, cut out ribs with scissors to make them milder. Purée tomatoes with juice, garlic, cilantro, sugar, and salt in a blender. Heat oil in a 10-inch nonstick skillet over moderate heat until hot but not smoking, then add sauce (be careful of splattering) and simmer, stirring, until thickened and reduced to about 1 cup, about 6 minutes. Gently simmer cream, with epazote if using, in a small heavy saucepan, covered, 10 minutes. If using epazote, pour cream through a fine-mesh sieve into a bowl, pressing on and discarding epazote. Return cream to pan. Whisk in goat cheese and salt and heat over low heat, whisking until smooth. Blanch spinach in batches in a large pot of boiling salted water 1 minute, transferring with a slotted spoon to a large bowl of cold water to cool. Drain in a colander, pressing on spinach with back of a spoon to remove excess water, then coarsely chop. Heat oil in cleaned nonstick skillet over moderately high heat until hot but not smoking, then sauté spinach and raisins, stirring, 2 minutes. Stir in salt and transfer filling to a plate. Preheat oven to 350°F. Heat oil in cleaned nonstick skillet over moderately high heat until hot but not smoking, then fry tortillas 2 halves at a time, turning over once, until just crisp, about 1 minute total. Transfer tortillas to paper towels to drain. Spread 1/4 cup tomato sauce over bottom of casserole dish. Arrange half of tortillas on top, then spread another 1/4 cup tomato sauce on top and sprinkle evenly with black beans. Arrange 4 poblanos flat over black beans to cover, then spread half of spinach filling evenly over chiles and drizzle with 1/4 cup goat cheese sauce. Make another layer with 4 chiles, remaining spinach filling, and another 1/4 cup of goat cheese sauce, then cover with remaining 4 chiles. Cover chiles with remaining tomato sauce, spreading evenly, then top with remaining tortillas. Cover tortillas with remaining goat cheese sauce, spreading evenly. Bake lasagne, covered with foil, in middle of oven until bubbling and heated through, 25 to 30 minutes. Preheat broiler. Remove foil and broil about 3 inches from heat until top is bubbling and beginning to brown, about 2 minutes. Available at Latino markets and Kitchen/Market (888-468-4433)\n",
      "\n",
      "Probablity: 1.1511001408504029e-05\n",
      "Preheat the oven to 350°F. Grease the bottom and sides of a 10-inch cake pan well with some of the butter. Cut out a piece of parchment paper so it fits closely into the bottom of the cake pan. Line the bottom of the pan with the parchment, and then grease the parchment with more butter. Shake 1 tablespoon of the flour into the cake pan, and shake it around so it sticks to the butter. Tap out any excess flour that doesn't stick to the parchment or to the sides of the pan. Pour the root beer and molasses into a deep medium-sized pot, and bring the mixture to a boil over high heat. (You need those high sides because the baking soda will froth up very high, and you don't want it to spill over! So make sure there's some meaningful space between the liquid and the top of the pot.) Pull the pot off the heat and whisk in all the baking soda, so it froths up. Then put the pot right in the fridge to cool down a little. While the root beer mix is cooling down, whisk the brown sugar, vegetable oil, granulated sugar, ginger, and vanilla extract together in a mixing bowl. The mixture will be a little chunky at this point. Crack the egg into the bowl and whisk well. The egg is what makes everything come together smoothly: you should have a thick paste. Set this aside. In another mixing bowl, combine rest of the flour with the baking powder, star anise, and cardamom. Grate in the nutmeg and lemon zest, and add the salt and pepper. Whisk everything together so it's well combined. Take the root beer mixture out of the fridge. Pour a third of the flour mixture into a large mixing bowl; pour in one-third of the root beer mixture, then one-third of the sugar paste. Whisk everything together slowly (so it doesn't splash everywhere), and then add another one-third of the flour, another one-third of the root beer, and so forth, until everything is combined in the bowl. (The mix doesn't need to be completely and smoothly combined until the last of the wet and dry mixtures are in the bowl.) You should have a very wet, almost liquid batter. Pour the batter into the cake pan, put the pan on a cookie sheet (to catch drips and splashes), and put it on the middle oven rack. Bake the cake for 45 minutes without opening the oven at all (this cake will sink if you shake it up while it's baking). Check it: the cake should be high and dark brown, with a little bit of spring-back when you touch it (but not too much—it's a very moist cake). If it's not quite ready, rotate the pan and put it back in the oven for another 5 minutes before checking it again. The whole baking process shouldn't take longer than 55 minutes, even in a slow oven. Whisk the cream and sassafras together in a small pot, and bring it up to a boil over medium-high heat. As soon as it boils, pull the mixture off the heat, pour it into a glass or ceramic container (something that won't crack from the heat), and put it in the fridge. Let the mixture cool for about 30 minutes while the sassafras steeps into the cream, so you have a nice root beer flavor. In a mixing bowl, combine the powdered sugar, star anise, cardamon, and salt. Grate in the nutmeg and lemon zest, and whisk everything together. Strain the cooled cream through a fine-mesh strainer into a small mixing bowl (so the sassafras pieces don't end up in the glaze). Gently whisk 1/2 cup of the cream into the powdered sugar mixture, holding back the last 2 tablespoons to see if you need it. If the mixture is dry and not coming together as a glaze, add more cream. Whisk the mixture well, until you have a shiny, thick liquid. When the cake is ready, pull it out of the oven and let it rest for about 5 minutes. Flip the cake out of the pan onto a serving plate. Spread the glaze thickly on top of the warm cake with a spoon. The glaze will melt and drip down the sides as you slather it on. You can serve the cake as soon as it's cooled to room temperature—but like all spice cakes, it's even better the day after you make it. Store it covered at room temperature.\n",
      "\n"
     ]
    }
   ],
   "source": [
    "custom_model.print_wrong_examples()"
   ]
  },
  {
   "cell_type": "code",
   "execution_count": 16,
   "id": "6509a7a6-f7ae-4360-813a-7fee5eee9803",
   "metadata": {},
   "outputs": [
    {
     "data": {
      "text/plain": [
       "array([], dtype=float64)"
      ]
     },
     "execution_count": 16,
     "metadata": {},
     "output_type": "execute_result"
    }
   ],
   "source": []
  },
  {
   "cell_type": "markdown",
   "id": "29b80c89-43e7-4d81-9e18-b76ddfb82dde",
   "metadata": {},
   "source": [
    "## b) Analysis\n",
    "\n",
    "Ideas:\n",
    "- Confusion matrix\n",
    "- Look at Wrong Examples"
   ]
  },
  {
   "cell_type": "code",
   "execution_count": null,
   "id": "9d07a338-8367-41a5-b577-ce069a8907ae",
   "metadata": {},
   "outputs": [],
   "source": []
  }
 ],
 "metadata": {
  "kernelspec": {
   "display_name": "Python 3 (ipykernel)",
   "language": "python",
   "name": "python3"
  },
  "language_info": {
   "codemirror_mode": {
    "name": "ipython",
    "version": 3
   },
   "file_extension": ".py",
   "mimetype": "text/x-python",
   "name": "python",
   "nbconvert_exporter": "python",
   "pygments_lexer": "ipython3",
   "version": "3.8.8"
  }
 },
 "nbformat": 4,
 "nbformat_minor": 5
}
