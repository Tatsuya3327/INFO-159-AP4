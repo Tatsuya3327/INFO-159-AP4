{
 "cells": [
  {
   "cell_type": "code",
   "execution_count": 1,
   "id": "4badfb44-aaee-4bfd-9d45-ef37ecfa968d",
   "metadata": {},
   "outputs": [],
   "source": [
    "import pandas as pd\n",
    "import numpy as np"
   ]
  },
  {
   "cell_type": "code",
   "execution_count": 11,
   "id": "cde3ca19-41b6-400e-aaef-287a9c4a6b91",
   "metadata": {},
   "outputs": [],
   "source": [
    "df = pd.read_csv(\"adjudicated.txt\", sep='\\t', lineterminator='\\r', header=None).iloc[:, [1, 2, 3]]"
   ]
  },
  {
   "cell_type": "code",
   "execution_count": 15,
   "id": "00d8d6a9-d0b9-4305-9fa9-89e8f105ae5a",
   "metadata": {},
   "outputs": [
    {
     "data": {
      "text/html": [
       "<div>\n",
       "<style scoped>\n",
       "    .dataframe tbody tr th:only-of-type {\n",
       "        vertical-align: middle;\n",
       "    }\n",
       "\n",
       "    .dataframe tbody tr th {\n",
       "        vertical-align: top;\n",
       "    }\n",
       "\n",
       "    .dataframe thead th {\n",
       "        text-align: right;\n",
       "    }\n",
       "</style>\n",
       "<table border=\"1\" class=\"dataframe\">\n",
       "  <thead>\n",
       "    <tr style=\"text-align: right;\">\n",
       "      <th></th>\n",
       "      <th>1</th>\n",
       "      <th>2</th>\n",
       "      <th>3</th>\n",
       "    </tr>\n",
       "  </thead>\n",
       "  <tbody>\n",
       "    <tr>\n",
       "      <th>469</th>\n",
       "      <td>adjudicated</td>\n",
       "      <td>pos</td>\n",
       "      <td>Mix onion, garlic, ginger, gochujang, soy sauc...</td>\n",
       "    </tr>\n",
       "    <tr>\n",
       "      <th>333</th>\n",
       "      <td>adjudicated</td>\n",
       "      <td>neg</td>\n",
       "      <td>Preheat oven to 400° F. Place the first 6 ingr...</td>\n",
       "    </tr>\n",
       "    <tr>\n",
       "      <th>302</th>\n",
       "      <td>adjudicated</td>\n",
       "      <td>pos</td>\n",
       "      <td>Soak noodles in a medium bowl of boiling-hot w...</td>\n",
       "    </tr>\n",
       "    <tr>\n",
       "      <th>388</th>\n",
       "      <td>adjudicated</td>\n",
       "      <td>pos</td>\n",
       "      <td>Combine giblets (reserve liver), neck, 1 chopp...</td>\n",
       "    </tr>\n",
       "    <tr>\n",
       "      <th>72</th>\n",
       "      <td>adjudicated</td>\n",
       "      <td>pos</td>\n",
       "      <td>Whisk oil, orange juice, vinegar, salt, and 1/...</td>\n",
       "    </tr>\n",
       "    <tr>\n",
       "      <th>...</th>\n",
       "      <td>...</td>\n",
       "      <td>...</td>\n",
       "      <td>...</td>\n",
       "    </tr>\n",
       "    <tr>\n",
       "      <th>458</th>\n",
       "      <td>adjudicated</td>\n",
       "      <td>pos</td>\n",
       "      <td>Prepare the peanut butter ice cream and let ha...</td>\n",
       "    </tr>\n",
       "    <tr>\n",
       "      <th>276</th>\n",
       "      <td>adjudicated</td>\n",
       "      <td>pos</td>\n",
       "      <td>To make the salsa verde: Put the tomatillos, c...</td>\n",
       "    </tr>\n",
       "    <tr>\n",
       "      <th>237</th>\n",
       "      <td>adjudicated</td>\n",
       "      <td>pos</td>\n",
       "      <td>Cut the chicken into serving pieces. Trim the ...</td>\n",
       "    </tr>\n",
       "    <tr>\n",
       "      <th>178</th>\n",
       "      <td>adjudicated</td>\n",
       "      <td>pos</td>\n",
       "      <td>Place 1 zucchini on work surface. Using vegeta...</td>\n",
       "    </tr>\n",
       "    <tr>\n",
       "      <th>374</th>\n",
       "      <td>adjudicated</td>\n",
       "      <td>pos</td>\n",
       "      <td>1. Pit the cherries, cut them in half, and put...</td>\n",
       "    </tr>\n",
       "  </tbody>\n",
       "</table>\n",
       "<p>500 rows × 3 columns</p>\n",
       "</div>"
      ],
      "text/plain": [
       "               1    2                                                  3\n",
       "469  adjudicated  pos  Mix onion, garlic, ginger, gochujang, soy sauc...\n",
       "333  adjudicated  neg  Preheat oven to 400° F. Place the first 6 ingr...\n",
       "302  adjudicated  pos  Soak noodles in a medium bowl of boiling-hot w...\n",
       "388  adjudicated  pos  Combine giblets (reserve liver), neck, 1 chopp...\n",
       "72   adjudicated  pos  Whisk oil, orange juice, vinegar, salt, and 1/...\n",
       "..           ...  ...                                                ...\n",
       "458  adjudicated  pos  Prepare the peanut butter ice cream and let ha...\n",
       "276  adjudicated  pos  To make the salsa verde: Put the tomatillos, c...\n",
       "237  adjudicated  pos  Cut the chicken into serving pieces. Trim the ...\n",
       "178  adjudicated  pos  Place 1 zucchini on work surface. Using vegeta...\n",
       "374  adjudicated  pos  1. Pit the cherries, cut them in half, and put...\n",
       "\n",
       "[500 rows x 3 columns]"
      ]
     },
     "execution_count": 15,
     "metadata": {},
     "output_type": "execute_result"
    }
   ],
   "source": [
    "shuffled_df = df.sample(500)\n",
    "shuffled_df"
   ]
  },
  {
   "cell_type": "code",
   "execution_count": 32,
   "id": "e7a4dd82-095f-4efc-938c-6a973a984dd9",
   "metadata": {},
   "outputs": [],
   "source": [
    "train = shuffled_df.iloc[:300, :]\n",
    "valid = shuffled_df.iloc[300:400, :]\n",
    "test = shuffled_df.iloc[400:500, :]"
   ]
  },
  {
   "cell_type": "code",
   "execution_count": 33,
   "id": "1ae563a0-a3dc-4ed7-a151-d85a57890d3c",
   "metadata": {},
   "outputs": [],
   "source": [
    "train.to_csv(\"train.txt\", sep='\\t', header=False)"
   ]
  },
  {
   "cell_type": "code",
   "execution_count": 34,
   "id": "577a16ae-9c03-4cd2-b246-aef88b3078ec",
   "metadata": {},
   "outputs": [],
   "source": [
    "valid.to_csv(\"dev.txt\", sep='\\t', header=False)"
   ]
  },
  {
   "cell_type": "code",
   "execution_count": 35,
   "id": "60c8fc7e-6f71-40ac-a88e-c3125a8018cb",
   "metadata": {},
   "outputs": [],
   "source": [
    "test.to_csv(\"test.txt\", sep='\\t', header=False)"
   ]
  },
  {
   "cell_type": "code",
   "execution_count": 31,
   "id": "7bdf9976-5f21-441a-904f-61714d46d0d4",
   "metadata": {},
   "outputs": [
    {
     "data": {
      "text/plain": [
       "0.744"
      ]
     },
     "execution_count": 31,
     "metadata": {},
     "output_type": "execute_result"
    }
   ],
   "source": [
    "df[2].value_counts()[0] / 500"
   ]
  },
  {
   "cell_type": "code",
   "execution_count": null,
   "id": "e2435ef1-7a7c-4d64-b424-c6aa4e104d69",
   "metadata": {},
   "outputs": [],
   "source": []
  }
 ],
 "metadata": {
  "kernelspec": {
   "display_name": "Python 3 (ipykernel)",
   "language": "python",
   "name": "python3"
  },
  "language_info": {
   "codemirror_mode": {
    "name": "ipython",
    "version": 3
   },
   "file_extension": ".py",
   "mimetype": "text/x-python",
   "name": "python",
   "nbconvert_exporter": "python",
   "pygments_lexer": "ipython3",
   "version": "3.8.8"
  }
 },
 "nbformat": 4,
 "nbformat_minor": 5
}
